{
 "cells": [
  {
   "cell_type": "markdown",
   "metadata": {},
   "source": [
    "# Basketball analytics: distilling and summarizing Information\n",
    "\n",
    "#### Due: May 11 at 10 pm\n",
    "\n",
    "When analyzing data, setting a goal is often helpful. In this assignment, the focus is on understanding how NMF behaves, and further analyzing player data.\n",
    "\n",
    "In all the problems below, take a step back and think about each procedure as a piece in a bigger puzzle of understanding the game of basketball and its players. This goal should guide any decisions we make, and insights we interpret.\n",
    "\n",
    "## Preparing Data\n",
    "\n",
    "In the previous notebook `07-Shooting-Pattern-Analysis`, we computed smoothed shot patterns for 362 players that played during 2016-17 regular season. Save the matrix `X` from Non-negative matrix factorization (NMF) section.\n",
    "\n",
    "Please create this file from saving the appropriate variable into a picke file called `allpatterns2016-17.pkl`. After saving the file, you can load it via the following command:"
   ]
  },
  {
   "cell_type": "code",
   "execution_count": null,
   "metadata": {},
   "outputs": [],
   "source": [
    "import pickle\n",
    "X = pickle.load(open('allpatterns2016-17.pkl', 'rb'))\n"
   ]
  },
  {
   "cell_type": "markdown",
   "metadata": {},
   "source": [
    "## Non-negative Matrix Factorization (NMF) notation\n",
    "\n",
    "Non-negative matrix factorization was used on the smoothed shooting pattern data of around 360 players. The result was useful in\n",
    "* Bases: Identifying modes of shooting style (number of modes was determined by `n_components` argument to `NMF` function)\n",
    "* Coefficients: How each players shooting style could be expressed as a linear combination of these bases (matrix multiplication between the bases and coefficients achieve this)\n",
    "\n",
    "Recall the following. Given some matrix $X$ is $p\\times n$ matrix, NMF computes the following factorization:\n",
    "$$ \\min_{W,H} \\| X - WH \\|_F\\\\\n",
    "\\text{ subject to } W\\geq 0,\\ H\\geq 0, $$\n",
    "where $W$ is ${p\\times r}$ matrix and $H$ is ${r\\times n}$ matrix.\n",
    "\n",
    "\n",
    "## Problem 1\n",
    "\n",
    "__PSTAT 134 and 234__: Experiment with different number of `n_components` to change the number of bases vectors. Visualize the bases vectors.\n",
    "\n",
    "What value of $r$ seem to be too small? (`r` is too small to represent diversity of shooting modes) What value of $r$ seem to be too large? (`r` is too large and some bases seem to be duplicated). Note that, if a basis were a perfect duplicate of another (they will not be, but could be similar), you would use one basis instead of two.\n",
    "\n",
    "__PSTAT 234 (optional for 134)__: Choose two different choices for number of components, say $r_1=3$ and $r_2=20$. Reconstruct the shooting pattern of at least two player using 3 bases and 20 bases. Is there any difference between the reconstruction?\n",
    "\n",
    "- For a given player, plot the original shooting frequencies and corresponding reconstruction for $r \\in \\{3,20\\}$.\n",
    "\n",
    "Compute the difference: i.e., the norm of the difference  $ \\min_{W_r,H_r} \\| X - W_rH_r \\|_F$. Plot the approximation error as a function of $r$. (Note the subscript $r$ makes the choice of $r$ explicit.) Choose at least 10 different choices of $r$. Based on this plot, what can you say about choosing $r$?"
   ]
  },
  {
   "cell_type": "code",
   "execution_count": null,
   "metadata": {},
   "outputs": [],
   "source": [
    "## Non-negative Matrix Factorization\n",
    "def non_negative_marix_decomp(n_components,train_data):\n",
    "    import sklearn.decomposition as skld\n",
    "    model = skld.NMF(n_components=n_components, init='nndsvda', max_iter=500, random_state=0)\n",
    "    W = model.fit_transform(train_data)\n",
    "    H = model.components_\n",
    "    nmf = (W,H)\n",
    "    return(nmf)"
   ]
  },
  {
   "cell_type": "code",
   "execution_count": null,
   "metadata": {},
   "outputs": [],
   "source": [
    "w_3,H_3=non_negative_marix_decomp(3,X)\n",
    "w_7,H_7=non_negative_marix_decomp(7,X)\n",
    "w_10,H_10=non_negative_marix_decomp(10,X)"
   ]
  },
  {
   "cell_type": "code",
   "execution_count": null,
   "metadata": {},
   "outputs": [],
   "source": [
    "%matplotlib inline\n",
    "\n",
    "import pandas as pd\n",
    "import numpy as np\n",
    "import matplotlib.pyplot as plt\n",
    "import subprocess as sp\n",
    "import pickle\n",
    "\n",
    "import helper_basketball as h\n",
    "import imp\n",
    "imp.reload(h);\n",
    "allshots = pickle.load(open('allshots2016-17.pkl', 'rb'))\n",
    "allmade = allshots\n",
    "## bin edge definitions in inches\n",
    "xedges = (np.linspace(start=-25, stop=25, num=151, dtype=np.float)) * 12\n",
    "yedges = (np.linspace(start= -4, stop=31, num=106, dtype=np.float)) * 12\n",
    "\n",
    "## 2d histogram containers for binned counts and smoothed binned counts\n",
    "all_counts = {}\n",
    "all_smooth = {}\n",
    "\n",
    "## data matrix: players (row) by vectorized 2-d court locations (column)\n",
    "for i, one in enumerate(allmade.groupby('PlayerID')):\n",
    "    \n",
    "    ## what does this line do?\n",
    "    pid, pdf = one\n",
    "    \n",
    "    ## h.bin_shots: what is this function doing?\n",
    "    tmp1, xedges, yedges = h.bin_shots(pdf, bin_edges=(xedges, yedges), density=True, sigma=2)\n",
    "    tmp2, xedges, yedges = h.bin_shots(pdf, bin_edges=(xedges, yedges), density=False)\n",
    "    \n",
    "    ## vectorize and store into dictionary\n",
    "    # see: https://stackoverflow.com/questions/18691084/what-does-1-mean-in-numpy-reshape\n",
    "    all_smooth[pid] = tmp1.reshape(-1)\n",
    "    all_counts[pid] = tmp2.reshape(-1)"
   ]
  },
  {
   "cell_type": "code",
   "execution_count": null,
   "metadata": {},
   "outputs": [],
   "source": [
    "params = {'LeagueID':'00', 'Season': '2016-17', 'IsOnlyCurrentSeason': '0'}\n",
    "players = h.get_nba_data('commonallplayers', params).set_index('PERSON_ID')\n",
    "## players info\n",
    "player_ids = allmade.PlayerID.unique()\n",
    "num_players = player_ids.size\n",
    "# gives person_id of Kyrie Irving, since person_id is set as the index for players.\n",
    "players[players.DISPLAY_LAST_COMMA_FIRST == \"Irving, Kyrie\"].index\n",
    "player_ids\n",
    "#gives index of Kyrie Irving \n",
    "np.argwhere(player_ids == 202681).flatten()"
   ]
  },
  {
   "cell_type": "code",
   "execution_count": null,
   "metadata": {},
   "outputs": [],
   "source": [
    "#Visualziing R=3 components\n",
    "fig, ax = plt.subplots(1, 3, figsize=(20,40))\n",
    "\n",
    "for i, axi in enumerate(ax.flatten()):\n",
    "    h.plot_shotchart(w_3[:,i], xedges, yedges, ax=axi)\n",
    "    axi.set_title('NMF component ' + str(i))"
   ]
  },
  {
   "cell_type": "code",
   "execution_count": null,
   "metadata": {},
   "outputs": [],
   "source": [
    "X3_hat = np.matmul(w_3,H_3) "
   ]
  },
  {
   "cell_type": "code",
   "execution_count": null,
   "metadata": {},
   "outputs": [],
   "source": [
    "fig, ax = plt.subplots(1,2, figsize=(20,60))\n",
    "h.plot_shotchart(X[:,168], xedges, yedges, ax=ax[0]) \n",
    "# 168 corresponds to Kyrie Irving \n",
    "h.plot_shotchart(X3_hat[:,168], xedges, yedges, ax=ax[1])\n",
    "ax[0].set_title('Kyrie Irvings Original Shooting Pattern')\n",
    "ax[1].set_title('Kyrie Irvings Estimated Shooting Pattern (r=3)')"
   ]
  },
  {
   "cell_type": "code",
   "execution_count": null,
   "metadata": {},
   "outputs": [],
   "source": [
    "#Visualziing R=7 components\n",
    "fig, ax = plt.subplots(1, 7, figsize=(20,40))\n",
    "\n",
    "for i, axi in enumerate(ax.flatten()):\n",
    "    h.plot_shotchart(w_7[:,i], xedges, yedges, ax=axi)\n",
    "    axi.set_title('NMF component ' + str(i))"
   ]
  },
  {
   "cell_type": "code",
   "execution_count": null,
   "metadata": {},
   "outputs": [],
   "source": [
    "X7_hat = np.matmul(w_7,H_7) "
   ]
  },
  {
   "cell_type": "code",
   "execution_count": null,
   "metadata": {},
   "outputs": [],
   "source": [
    "fig, ax = plt.subplots(1,2, figsize=(20,60))\n",
    "h.plot_shotchart(X[:,168], xedges, yedges, ax=ax[0]) \n",
    "# 168 corresponds to Kyrie Irving \n",
    "h.plot_shotchart(X7_hat[:,168], xedges, yedges, ax=ax[1])\n",
    "ax[0].set_title('Kyrie Irvings Original Shooting Pattern')\n",
    "ax[1].set_title('Kyrie Irvings Estimated Shooting Pattern (r=7)')"
   ]
  },
  {
   "cell_type": "code",
   "execution_count": null,
   "metadata": {},
   "outputs": [],
   "source": [
    "#Visualziing R=10 components\n",
    "fig, ax = plt.subplots(1, 10, figsize=(20,40))\n",
    "\n",
    "for i, axi in enumerate(ax.flatten()):\n",
    "    h.plot_shotchart(w_10[:,i], xedges, yedges, ax=axi)\n",
    "    axi.set_title('NMF component ' + str(i))"
   ]
  },
  {
   "cell_type": "code",
   "execution_count": null,
   "metadata": {},
   "outputs": [],
   "source": [
    "X10_hat = np.matmul(w_10,H_10) "
   ]
  },
  {
   "cell_type": "code",
   "execution_count": null,
   "metadata": {},
   "outputs": [],
   "source": [
    "fig, ax = plt.subplots(1,2, figsize=(20,60))\n",
    "h.plot_shotchart(X[:,168], xedges, yedges, ax=ax[0]) \n",
    "# 168 corresponds to Kyrie Irving \n",
    "h.plot_shotchart(X10_hat[:,168], xedges, yedges, ax=ax[1])\n",
    "ax[0].set_title('Kyrie Irvings Original Shooting Pattern')\n",
    "ax[1].set_title('Kyrie Irvings Estimated Shooting Pattern (r=10)')"
   ]
  },
  {
   "cell_type": "markdown",
   "metadata": {},
   "source": [
    " From our estimated R's, it appears that R = 7 and R = 10 are too large because it can be seen from the graphs that the basis overlap, therefore we can reduce our R.\n",
    "Therefore, it appears that R = 3 is the best choice, because there does not exist overlap and each basis represents where players might shoot from realistically. Basketball shots tend to be layups, 3 pointers or 2 pointers. (which lie in the space between layups and 3 pointers) These areas are covered by the R=3 basis. "
   ]
  },
  {
   "cell_type": "markdown",
   "metadata": {},
   "source": [
    "## Problem 2\n",
    "\n",
    "__PSTAT 134 and 234__: In the previous question, NMF gave us a set of bases to describe each player. So, the comparison is through a standard set of shooting styles. We may also approach the comparison more directly.\n",
    "\n",
    "* In this problem, we compare of players' shooting styles to each other directly. What we are interested in is pairwise correlation between shooting patterns. Let $X_i$ represent the column in the smoothed shooting pattern for player $i$. Then, we want to compute   \n",
    "    $$ R = [\\text{Cor} (X_i, X_j)]_{i,j} $$ for all player combinations $i,j\\in\\{1,2,\\dots,362\\}$. What is the correct orientation of matrix $X$? What should be the dimension of matrix $R$?   \n",
    "    _Note: if your command is not running properly, you may be running into the issue of using too much memory, and your notebook session is rebooted by the server as a result._\n",
    "    \n",
    "* Visualize matrix $R$ with [seaborn.heatmap](https://seaborn.pydata.org/generated/seaborn.heatmap.html) function.\n",
    "\n",
    "* Identify 2 pairs of players with highest similarities (positive correlation) and 2 pairs with lowest similarity (negative correlation). Plot their shooting pattern. What do you observe?\n",
    "\n",
    "__PSTAT 234 (optional for 134)__: Perform hierarchical clustering with matrix $R$, and visualize the clustered matrix."
   ]
  },
  {
   "cell_type": "markdown",
   "metadata": {},
   "source": [
    "NO need to change the orientation of x. It should be row orientes. R is N x N "
   ]
  },
  {
   "cell_type": "code",
   "execution_count": null,
   "metadata": {},
   "outputs": [],
   "source": [
    "R = np.corrcoef(X,rowvar=0) # Transpose to compute correlation between colums\n",
    "print(R)"
   ]
  },
  {
   "cell_type": "code",
   "execution_count": null,
   "metadata": {},
   "outputs": [],
   "source": [
    "import seaborn as sns; sns.set()\n",
    "ax = sns.heatmap(R)"
   ]
  },
  {
   "cell_type": "code",
   "execution_count": null,
   "metadata": {},
   "outputs": [],
   "source": [
    "import numpy as np\n",
    "# take upper triangular of correlation matrix to get rid of 1's\n",
    "UpTri=np.triu(R,k=1)\n",
    "# return the non-zero min and max of the upper diagonal matrix\n",
    "minval = np.min(UpTri[np.nonzero(UpTri)])\n",
    "maxval = np.max(UpTri)\n",
    "# return the index of the min and max correlated players\n",
    "minval_index = np.where(UpTri == minval)\n",
    "maxval_index=np.where(UpTri == maxval)\n",
    "print(minval_index)\n",
    "print(maxval_index)"
   ]
  },
  {
   "cell_type": "code",
   "execution_count": null,
   "metadata": {},
   "outputs": [],
   "source": [
    "# convert matrix to list in order to return the player ids for the least and most correlated using the above indices\n",
    "listplayer_ids=player_ids.tolist()\n",
    "mina=listplayer_ids[23]\n",
    "minb=listplayer_ids[251]\n",
    "maxa=listplayer_ids[235]\n",
    "maxb=listplayer_ids[283]\n",
    "# now using the players ids to return the name of the most and least correlated, because the players data frame\n",
    "# uses the player ids as indices\n",
    "minplayera=players.get_value(mina,\"DISPLAY_LAST_COMMA_FIRST\")\n",
    "minplayerb=players.get_value(minb,\"DISPLAY_LAST_COMMA_FIRST\")\n",
    "maxplayera=players.get_value(maxa,\"DISPLAY_LAST_COMMA_FIRST\")\n",
    "maxplayerb=players.get_value(maxb,\"DISPLAY_LAST_COMMA_FIRST\")\n",
    "print(minplayera)\n",
    "print(minplayerb)\n",
    "print(maxplayera)\n",
    "print(maxplayerb)"
   ]
  },
  {
   "cell_type": "markdown",
   "metadata": {},
   "source": [
    "Shooting Patterns of least correlated players"
   ]
  },
  {
   "cell_type": "code",
   "execution_count": null,
   "metadata": {},
   "outputs": [],
   "source": [
    "fig, ax = plt.subplots(1,2, figsize=(20,60))\n",
    "h.plot_shotchart(X[:,23], xedges, yedges, ax=ax[0]) \n",
    "h.plot_shotchart(X[:,251], xedges, yedges, ax=ax[1])\n",
    "ax[0].set_title('Will Barton Original Shooting Pattern')\n",
    "ax[1].set_title('Mike Muscala Original Shooting Pattern')"
   ]
  },
  {
   "cell_type": "markdown",
   "metadata": {},
   "source": [
    "Shooting Patterns of Most Correlated Players"
   ]
  },
  {
   "cell_type": "code",
   "execution_count": null,
   "metadata": {},
   "outputs": [],
   "source": [
    "fig, ax = plt.subplots(1,2, figsize=(20,60))\n",
    "h.plot_shotchart(X[:,235], xedges, yedges, ax=ax[0]) \n",
    "h.plot_shotchart(X[:,283], xedges, yedges, ax=ax[1])\n",
    "ax[0].set_title('Salah Mejri Original Shooting Pattern')\n",
    "ax[1].set_title('Zach Randolph Original Shooting Pattern')"
   ]
  },
  {
   "cell_type": "markdown",
   "metadata": {},
   "source": [
    "Here we can see that the least correlated have opposite shooting patterns and the most correlated have almost identical shooting patterns as expected, because a correlation close to 1 would indicate similar bases, while a correlation close to -1 indicates opposing bases."
   ]
  },
  {
   "cell_type": "markdown",
   "metadata": {},
   "source": [
    "## Problem 3\n",
    "\n",
    "__PSTAT 134 and 234__: How would you use the coefficients matrix $H$ from NMF  or the correlation matrix $R$ (computed above) to differentiate between types of players? Consider what the coefficients represent, and how you can use them to discriminate player types.\n",
    "\n",
    "Give your thought process, reasoning for your chosen method, and the results. Do they look reasonable? Do you expect any of the comparison to be similar to any of the [figures here](https://fastbreakdata.com/classifying-the-modern-nba-player-with-machine-learning-539da03bb824)? Why, or why not? Can you verify your intuition?"
   ]
  },
  {
   "cell_type": "raw",
   "metadata": {},
   "source": [
    "Since the coeffiecients represent a linear combination of a players shooting patterns, we can use this info to classify the \"hot spots\" of a particular player. Our results are very reasonable, we can see how the correlation matrix allowed to view both similar and opposite player types. Since we are only looking at the shooting patterns it would be difficult to classify all types of players based only on shooting patterns, because defensive players would not be classified correctly. But we can classify different types of offensive players. One possible way to verify the intuition would be to use the classification the site has for players and plot the coefficients and correlation coefficients for all the players and see if they indeed are similar. "
   ]
  },
  {
   "cell_type": "markdown",
   "metadata": {},
   "source": [
    "## Problem 4\n",
    "\n",
    "__PSTAT 134 and 234__: Suppose you are in charge of a basketball team. How would you use this information? How would you use what you have learned from analyzing the data, and what other questions would you like to answer with further analysis."
   ]
  },
  {
   "cell_type": "markdown",
   "metadata": {},
   "source": [
    "You can use this information to counter attack the offense of the other team. By knowing where a player's \"hot spots\" are you can coordinate the defense to force the offense to shoot from their least comfortable position. For example you can use the correlation matrix to find the shooting style that is least correlated to a specific player and then use that information to force the offenseive player to shoot from these spots, if the defense is coordinated correctly. (assuming that players that are least correlated signify possible weak points)"
   ]
  }
 ],
 "metadata": {
  "language_info": {
   "name": "python",
   "pygments_lexer": "ipython3"
  }
 },
 "nbformat": 4,
 "nbformat_minor": 2
}
