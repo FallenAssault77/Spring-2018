{
 "cells": [
  {
   "cell_type": "markdown",
   "metadata": {},
   "source": [
    "# Data and Uncertainty\n",
    "\n",
    "- In probability, underlying processes are represented by a __model__ (often some distribution)   \n",
    "    e.g., flipping a coin, rolling a dice, etc.\n",
    "    \n",
    "- In reality, even for very simple processes, underlying process is not easily described   \n",
    "    e.g., what is the true $p$ of a coin? pmf of a dice?,\n",
    "    \n",
    "- Many real-world processes are much more complicated; however, we still try  \n",
    "    > _Now it would be very remarkable if any system existing in the real world could be \n",
    "    exactly represented by any simple model. However, cunningly chosen parsimonious models \n",
    "    often do provide remarkably useful approximations. \n",
    "    [... example of modeling gas in physics ...]  \n",
    "    For such a model there is no need to ask the question \"Is the model true?\". \n",
    "    If \"truth\" is to be the \"whole truth\" the answer must be \"No\". \n",
    "    The only question of interest is \"Is the model illuminating and useful?\"._  \n",
    "    George Box\n",
    "\n",
    "- If you build a model with random variables having known distributions, we can simulate the outcomes\n",
    "\n",
    "- If the model is accurate to some degree, we can say a lot about the outcome: i.e., the model is useful\n",
    "\n",
    "- However, often building models from ground up is practically impossible\n",
    "    e.g., where do you begin to build a model for NCAA tournament? human behavior?\n",
    "\n",
    "- Often we are interested in inference and/or prediction\n",
    "\n",
    "    - __Inference__: making conclusions based on data  \n",
    "        e.g., parameters such as winning probability for each team\n",
    "\n",
    "    - __Prediction__: making guesses about the next outcome  \n",
    "        e.g., who will win?\n",
    "        \n",
    "- Monte Carlo simulation is a good tool to illustrate the relationship between the generating process and data"
   ]
  },
  {
   "cell_type": "markdown",
   "metadata": {},
   "source": [
    "## Monte Carlo simulation\n",
    "\n",
    "First, recall the definition of a random sample:\n",
    "\n",
    "> __Random sample__: Let $X_1,X_2,\\dots,X_n$ be a set of $n$ independent random variables, \n",
    "all having the _same pdf_, $f_X$. Then $X_1,X_2,\\dots,X_n$ are said to be a _random sample of size n_.\n",
    "\n",
    "- Random sample: $X_1,X_2,\\dots,X_n$\n",
    "\n",
    "- Random measurements: $x_1,x_2,\\dots,x_n$\n",
    "\n",
    "While random sample is made up of random variables,\n",
    "__iid observations__ (independent identically distributed)\n",
    "$x_1, x_2,\\dots x_n$ are $n$-measurements (numbers) coming from $X_1,X_2,\\dots,X_n$\n",
    "\n",
    "- In order to capture randomness of _random sample_ with _iid observations_, \n",
    "    we can generate many sets of random measurements   \n",
    "    $$\n",
    "    x_1^{(1)},x_2^{(1)},\\dots,x_n^{(1)}\\\\\n",
    "    x_1^{(2)},x_2^{(2)},\\dots,x_n^{(2)}\\\\\n",
    "    \\vdots\\\\\n",
    "    x_1^{(S)},x_2^{(S)},\\dots,x_n^{(S)}\n",
    "    $$\n",
    "\n",
    "- As an example, let's simulate convergence of the sample mean to the true mean\n",
    "\n",
    "### Consistency of the sample mean: dice example\n",
    "\n",
    "Suppose that $X_1,X_2,\\dots,X_n$ is a random sample of size $n$ from a discrete pdf $p_X(k;\\mu)$, where $E(X)=\\mu$ and $\\text{Var}(X) = \\sigma^2 < \\infty$. Let $\\hat\\mu_n = \\frac{1}{n}\\sum_i^n X_i$. Is $\\hat\\mu_n$ a consistent estimator for $\\mu$?\n",
    "\n",
    "Since we are simulating dice throw with a pmf, the _model_ is perfect. Hence, we know the true value of $E(X)=\\mu=3.5$ and $\\text{Var}(X) = \\sigma^2 = 2.917$. Also, sampling distribution says $E(\\hat\\mu_n)=\\mu$ and $$\\text{Var}(\\hat\\mu_n) = \\text{Var}\\left(\\frac{1}{n}\\sum_{i=1}^n X_i \\right) = \\frac{1}{n^2} \\sum_{i=1}^n \\text{Var}(X_i)= \\frac{\\sigma^2}{n}$$. We will verify this empirically.\n",
    "\n",
    "First, generate many random observations $(x_1^{(s)},x_2^{(s)},\\dots ,x_n^{(s)})$ \n",
    "for $s=1,2,\\dots, 10$ and $n=7$. Each simulation is the _data_ of 7 dice throws.\n",
    "Put them into a numpy array"
   ]
  },
  {
   "cell_type": "code",
   "execution_count": 16,
   "metadata": {},
   "outputs": [
    {
     "name": "stdout",
     "output_type": "stream",
     "text": [
      "shape of x: (10, 7)\n",
      "unique values in x: [1 2 3 4 5 6]\n"
     ]
    }
   ],
   "source": [
    "import numpy as np\n",
    "import pandas as pd\n",
    "\n",
    "n = 7\n",
    "S = 10\n",
    "\n",
    "x = np.random.randint(size=(S, n), low=1, high=7)\n",
    "print(\"shape of x:\", x.shape)\n",
    "print(\"unique values in x:\", np.unique(x))"
   ]
  },
  {
   "cell_type": "markdown",
   "metadata": {},
   "source": [
    "In `x`, one set of observations is one row. Get one row by indexing into `x`. First index is for the row:"
   ]
  },
  {
   "cell_type": "code",
   "execution_count": 3,
   "metadata": {},
   "outputs": [
    {
     "data": {
      "text/plain": [
       "array([[3, 3, 3, 5, 6, 6, 2],\n",
       "       [1, 5, 2, 2, 5, 2, 3],\n",
       "       [3, 4, 5, 3, 1, 1, 1],\n",
       "       [1, 3, 4, 3, 6, 5, 4],\n",
       "       [3, 2, 5, 3, 1, 4, 2],\n",
       "       [5, 5, 3, 5, 1, 2, 6],\n",
       "       [5, 6, 6, 6, 1, 4, 2],\n",
       "       [1, 2, 5, 1, 3, 6, 6],\n",
       "       [1, 5, 3, 4, 4, 2, 1],\n",
       "       [2, 6, 1, 6, 5, 5, 2]])"
      ]
     },
     "execution_count": 3,
     "metadata": {},
     "output_type": "execute_result"
    }
   ],
   "source": [
    "x"
   ]
  },
  {
   "cell_type": "code",
   "execution_count": 4,
   "metadata": {},
   "outputs": [
    {
     "name": "stdout",
     "output_type": "stream",
     "text": [
      "one row: [3 3 3 5 6 6 2]\n",
      "one value: 6\n"
     ]
    }
   ],
   "source": [
    "print(\"one row:\", x[0])    \n",
    "print(\"one value:\", x[0, 4])"
   ]
  },
  {
   "cell_type": "code",
   "execution_count": 5,
   "metadata": {},
   "outputs": [
    {
     "name": "stdout",
     "output_type": "stream",
     "text": [
      "one row: [2 6 1 6 5 5 2]\n",
      "one value: 2\n"
     ]
    }
   ],
   "source": [
    "print(\"one row:\", x[-1])\n",
    "print(\"one value:\", x[-1, -1])"
   ]
  },
  {
   "cell_type": "markdown",
   "metadata": {},
   "source": [
    "Numpy offers many convenient and flexible ways to slice and get a subset of numpy arrays (Chapter 2 in Vanderplas). In particular, [_views_ of arrays](https://jakevdp.github.io/PythonDataScienceHandbook/02.02-the-basics-of-numpy-arrays.html#Subarrays-as-no-copy-views) are useful. This is in contrast to R that always creates copies (even in function calls).\n",
    "\n",
    "Numpy makes array operations simple. For example, we can't use add a value to the list:"
   ]
  },
  {
   "cell_type": "code",
   "execution_count": null,
   "metadata": {},
   "outputs": [],
   "source": [
    "## [1,2,3]+3  ## causes error"
   ]
  },
  {
   "cell_type": "markdown",
   "metadata": {},
   "source": [
    "In addition to common arithmetic functions (called ufuncs) other useful functions are:"
   ]
  },
  {
   "cell_type": "code",
   "execution_count": 6,
   "metadata": {},
   "outputs": [
    {
     "data": {
      "text/plain": [
       "array([[ 3, 15,  6,  6, 15,  6,  9],\n",
       "       [ 3, 15,  6,  6, 15,  6,  9],\n",
       "       [ 3, 15,  6,  6, 15,  6,  9],\n",
       "       [ 5, 25, 10, 10, 25, 10, 15],\n",
       "       [ 6, 30, 12, 12, 30, 12, 18],\n",
       "       [ 6, 30, 12, 12, 30, 12, 18],\n",
       "       [ 2, 10,  4,  4, 10,  4,  6]])"
      ]
     },
     "execution_count": 6,
     "metadata": {},
     "output_type": "execute_result"
    }
   ],
   "source": [
    "np.multiply.outer(x[0],x[1]) ## outer product of first two rows"
   ]
  },
  {
   "cell_type": "code",
   "execution_count": 7,
   "metadata": {},
   "outputs": [
    {
     "data": {
      "text/plain": [
       "array([[ 6,  8,  7,  6,  5,  8,  9,  5,  8,  9],\n",
       "       [ 4,  6,  5,  4,  3,  6,  7,  3,  6,  7],\n",
       "       [ 6,  8,  7,  6,  5,  8,  9,  5,  8,  9],\n",
       "       [ 4,  6,  5,  4,  3,  6,  7,  3,  6,  7],\n",
       "       [ 6,  8,  7,  6,  5,  8,  9,  5,  8,  9],\n",
       "       [ 8, 10,  9,  8,  7, 10, 11,  7, 10, 11],\n",
       "       [ 8, 10,  9,  8,  7, 10, 11,  7, 10, 11],\n",
       "       [ 4,  6,  5,  4,  3,  6,  7,  3,  6,  7],\n",
       "       [ 4,  6,  5,  4,  3,  6,  7,  3,  6,  7],\n",
       "       [ 5,  7,  6,  5,  4,  7,  8,  4,  7,  8]])"
      ]
     },
     "execution_count": 7,
     "metadata": {},
     "output_type": "execute_result"
    }
   ],
   "source": [
    "np.add.outer(x[:,0],x[:,1]) ## outer sum of first two columns"
   ]
  },
  {
   "cell_type": "markdown",
   "metadata": {},
   "source": [
    "Note that sample mean of one set of random observations can be computed by:"
   ]
  },
  {
   "cell_type": "code",
   "execution_count": 8,
   "metadata": {},
   "outputs": [
    {
     "name": "stdout",
     "output_type": "stream",
     "text": [
      "object method: 4.0 function: 4.0\n"
     ]
    }
   ],
   "source": [
    "print(\"object method:\", x[0].mean(), \"function:\", np.mean(x[0]))"
   ]
  },
  {
   "cell_type": "markdown",
   "metadata": {},
   "source": [
    "Internally, they are equivalent."
   ]
  },
  {
   "cell_type": "code",
   "execution_count": null,
   "metadata": {},
   "outputs": [],
   "source": [
    "x0 = x[0]\n",
    "## x0.mean??\n",
    "## np.mean??"
   ]
  },
  {
   "cell_type": "markdown",
   "metadata": {},
   "source": [
    "Mean of one row of `x` is sample mean of one simulation: i.e., mean of 50 dice throws. \n",
    "How do you compute mean of each simulation? Numpy `axis` refers to the direction of the array. \n",
    "\n",
    "Giving argument `axis=0`, the mean function computes column averages."
   ]
  },
  {
   "cell_type": "code",
   "execution_count": 9,
   "metadata": {},
   "outputs": [
    {
     "name": "stdout",
     "output_type": "stream",
     "text": [
      "x.mean(axis=0)   : [ 2.5  4.1  3.7  3.8  3.3  3.7  2.9]\n",
      "temp.mean(0)[3]  : 3.8\n",
      "temp[:,3].mean() : 3.8\n"
     ]
    }
   ],
   "source": [
    "temp = x.mean(axis=0)\n",
    "print(\"x.mean(axis=0)   :\", temp)\n",
    "print(\"temp.mean(0)[3]  :\", temp[3])\n",
    "print(\"temp[:,3].mean() :\", x[:,3].mean())"
   ]
  },
  {
   "cell_type": "markdown",
   "metadata": {},
   "source": [
    "Giving argument `axis=1`, the mean function computes row averages."
   ]
  },
  {
   "cell_type": "code",
   "execution_count": 18,
   "metadata": {},
   "outputs": [
    {
     "name": "stdout",
     "output_type": "stream",
     "text": [
      "xmean: [ 2.42857143  3.71428571  3.57142857  4.57142857  3.14285714  2.71428571\n",
      "  4.57142857  3.42857143  2.71428571  4.71428571]\n"
     ]
    }
   ],
   "source": [
    "xmean = x.mean(axis=1)\n",
    "print(\"xmean:\", xmean)"
   ]
  },
  {
   "cell_type": "markdown",
   "metadata": {},
   "source": [
    "Note that `xmean` contains many observations of the sample mean $\\hat\\mu_n$. Plot the histogram of `xmean`:"
   ]
  },
  {
   "cell_type": "code",
   "execution_count": 19,
   "metadata": {},
   "outputs": [
    {
     "data": {
      "image/png": "[encoded data removed]",
      "text/plain": [
       "<matplotlib.figure.Figure at 0x7f4973c93208>"
      ]
     },
     "metadata": {},
     "output_type": "display_data"
    }
   ],
   "source": [
    "%matplotlib inline\n",
    "import matplotlib.pyplot as plt\n",
    "import seaborn; seaborn.set()  # set plot style\n",
    "from IPython.core.pylabtools import figsize\n",
    "figsize(11, 9)\n",
    "plt.hist(xmean)\n",
    "plt.xlabel('sample mean')\n",
    "plt.ylabel('count')\n",
    "plt.show()"
   ]
  },
  {
   "cell_type": "markdown",
   "metadata": {},
   "source": [
    "## Effect of Sample Size $n$"
   ]
  },
  {
   "cell_type": "markdown",
   "metadata": {},
   "source": [
    "Chebyshev's inequality says that \n",
    "$$ \\Pr(|\\hat\\mu_n - \\mu| < \\epsilon) > 1 - \\frac{\\text{Var}(\\hat\\mu_n)}{\\epsilon^2} \n",
    "= 1- \\frac{\\sigma^2}{n\\epsilon^2} $$\n",
    "\n",
    "Recall that $\\sigma^2=2.917$ is the variance of outcomes of dice represented as a random variable. \n",
    "Fixing the error to $\\epsilon = 1$ makes the RHS a function of $n$.\n",
    "\n",
    "In order to empirically verify Chebyshev's inequality, we will simulate the dice with a function."
   ]
  },
  {
   "cell_type": "code",
   "execution_count": 10,
   "metadata": {},
   "outputs": [],
   "source": [
    "## throw dice\n",
    "def throw_dice(n=1):\n",
    "    \n",
    "    from numpy.random import randint\n",
    "    \n",
    "    return(randint(size=n, low=1, high=7))\n",
    "\n",
    "## throw dice n times, compute mean\n",
    "def muhat_n(n=1):\n",
    "    \n",
    "    return(throw_dice(n).mean())"
   ]
  },
  {
   "cell_type": "markdown",
   "metadata": {},
   "source": [
    "Above functions return numpy arrays. We will compile results below in a bare list. Then create Pandas data frame from it (more on Pandas later). Some automatic type conversion is possible, but more strict than R."
   ]
  },
  {
   "cell_type": "code",
   "execution_count": 13,
   "metadata": {},
   "outputs": [
    {
     "data": {
      "text/html": [
       "<div>\n",
       "<table border=\"1\" class=\"dataframe\">\n",
       "  <thead>\n",
       "    <tr style=\"text-align: right;\">\n",
       "      <th></th>\n",
       "      <th>muhat_n</th>\n",
       "      <th>n_throws</th>\n",
       "    </tr>\n",
       "  </thead>\n",
       "  <tbody>\n",
       "    <tr>\n",
       "      <th>0</th>\n",
       "      <td>3.200000</td>\n",
       "      <td>20</td>\n",
       "    </tr>\n",
       "    <tr>\n",
       "      <th>1</th>\n",
       "      <td>4.200000</td>\n",
       "      <td>30</td>\n",
       "    </tr>\n",
       "    <tr>\n",
       "      <th>2</th>\n",
       "      <td>3.650000</td>\n",
       "      <td>40</td>\n",
       "    </tr>\n",
       "    <tr>\n",
       "      <th>3</th>\n",
       "      <td>3.440000</td>\n",
       "      <td>50</td>\n",
       "    </tr>\n",
       "    <tr>\n",
       "      <th>4</th>\n",
       "      <td>3.166667</td>\n",
       "      <td>60</td>\n",
       "    </tr>\n",
       "    <tr>\n",
       "      <th>5</th>\n",
       "      <td>3.628571</td>\n",
       "      <td>70</td>\n",
       "    </tr>\n",
       "    <tr>\n",
       "      <th>6</th>\n",
       "      <td>3.212500</td>\n",
       "      <td>80</td>\n",
       "    </tr>\n",
       "    <tr>\n",
       "      <th>7</th>\n",
       "      <td>3.655556</td>\n",
       "      <td>90</td>\n",
       "    </tr>\n",
       "    <tr>\n",
       "      <th>8</th>\n",
       "      <td>3.550000</td>\n",
       "      <td>100</td>\n",
       "    </tr>\n",
       "    <tr>\n",
       "      <th>9</th>\n",
       "      <td>3.709091</td>\n",
       "      <td>110</td>\n",
       "    </tr>\n",
       "  </tbody>\n",
       "</table>\n",
       "</div>"
      ],
      "text/plain": [
       "    muhat_n  n_throws\n",
       "0  3.200000        20\n",
       "1  4.200000        30\n",
       "2  3.650000        40\n",
       "3  3.440000        50\n",
       "4  3.166667        60\n",
       "5  3.628571        70\n",
       "6  3.212500        80\n",
       "7  3.655556        90\n",
       "8  3.550000       100\n",
       "9  3.709091       110"
      ]
     },
     "execution_count": 13,
     "metadata": {},
     "output_type": "execute_result"
    }
   ],
   "source": [
    "n_choices = np.arange(20, 10001, 10)\n",
    "\n",
    "results = []\n",
    "for n in n_choices:\n",
    "    results += [muhat_n(n)] ## appends to list\n",
    "\n",
    "df = pd.DataFrame({\n",
    "    'n_throws': n_choices,\n",
    "    'muhat_n' : results,\n",
    "})\n",
    "df[:10]"
   ]
  },
  {
   "cell_type": "code",
   "execution_count": 20,
   "metadata": {},
   "outputs": [
    {
     "data": {
      "image/png": "[encoded data removed]",
      "text/plain": [
       "<matplotlib.figure.Figure at 0x7f4973c820b8>"
      ]
     },
     "metadata": {},
     "output_type": "display_data"
    }
   ],
   "source": [
    "figsize(11, 9)\n",
    "plt.plot(df['n_throws'], df['muhat_n']);\n",
    "plt.xlabel(\"Number of dice throws (n)\");\n",
    "plt.ylabel(\"Average of n dice throws\");"
   ]
  },
  {
   "cell_type": "markdown",
   "metadata": {},
   "source": [
    "We can build on the result by showing where 95% bound according to Chebyshev's inequality.\n",
    "\n",
    "If we choose $\\epsilon = 1$ and $n$ is fixed at 50. Then, plugging in $\\sigma^2$, we get:\n",
    "$$ \n",
    "1- \\frac{2.917}{n\\cdot \\epsilon^2} = 0.95\\\\\n",
    "\\epsilon = \\sqrt{\\frac{2.917}{0.05\\cdot n}}$$\n",
    "\n",
    "Following computes error threshold $epsilon$ guaranteed by Chebyshev's threshold."
   ]
  },
  {
   "cell_type": "code",
   "execution_count": 22,
   "metadata": {},
   "outputs": [
    {
     "data": {
      "text/html": [
       "<div>\n",
       "<table border=\"1\" class=\"dataframe\">\n",
       "  <thead>\n",
       "    <tr style=\"text-align: right;\">\n",
       "      <th></th>\n",
       "      <th>muhat_n</th>\n",
       "      <th>n_throws</th>\n",
       "      <th>epsilon</th>\n",
       "    </tr>\n",
       "  </thead>\n",
       "  <tbody>\n",
       "    <tr>\n",
       "      <th>0</th>\n",
       "      <td>3.200000</td>\n",
       "      <td>20</td>\n",
       "      <td>1.707923</td>\n",
       "    </tr>\n",
       "    <tr>\n",
       "      <th>1</th>\n",
       "      <td>4.200000</td>\n",
       "      <td>30</td>\n",
       "      <td>1.394513</td>\n",
       "    </tr>\n",
       "    <tr>\n",
       "      <th>2</th>\n",
       "      <td>3.650000</td>\n",
       "      <td>40</td>\n",
       "      <td>1.207684</td>\n",
       "    </tr>\n",
       "    <tr>\n",
       "      <th>3</th>\n",
       "      <td>3.440000</td>\n",
       "      <td>50</td>\n",
       "      <td>1.080185</td>\n",
       "    </tr>\n",
       "    <tr>\n",
       "      <th>4</th>\n",
       "      <td>3.166667</td>\n",
       "      <td>60</td>\n",
       "      <td>0.986070</td>\n",
       "    </tr>\n",
       "    <tr>\n",
       "      <th>5</th>\n",
       "      <td>3.628571</td>\n",
       "      <td>70</td>\n",
       "      <td>0.912923</td>\n",
       "    </tr>\n",
       "    <tr>\n",
       "      <th>6</th>\n",
       "      <td>3.212500</td>\n",
       "      <td>80</td>\n",
       "      <td>0.853961</td>\n",
       "    </tr>\n",
       "    <tr>\n",
       "      <th>7</th>\n",
       "      <td>3.655556</td>\n",
       "      <td>90</td>\n",
       "      <td>0.805122</td>\n",
       "    </tr>\n",
       "    <tr>\n",
       "      <th>8</th>\n",
       "      <td>3.550000</td>\n",
       "      <td>100</td>\n",
       "      <td>0.763806</td>\n",
       "    </tr>\n",
       "    <tr>\n",
       "      <th>9</th>\n",
       "      <td>3.709091</td>\n",
       "      <td>110</td>\n",
       "      <td>0.728261</td>\n",
       "    </tr>\n",
       "    <tr>\n",
       "      <th>10</th>\n",
       "      <td>3.433333</td>\n",
       "      <td>120</td>\n",
       "      <td>0.697257</td>\n",
       "    </tr>\n",
       "    <tr>\n",
       "      <th>11</th>\n",
       "      <td>3.453846</td>\n",
       "      <td>130</td>\n",
       "      <td>0.669902</td>\n",
       "    </tr>\n",
       "    <tr>\n",
       "      <th>12</th>\n",
       "      <td>3.514286</td>\n",
       "      <td>140</td>\n",
       "      <td>0.645534</td>\n",
       "    </tr>\n",
       "    <tr>\n",
       "      <th>13</th>\n",
       "      <td>3.633333</td>\n",
       "      <td>150</td>\n",
       "      <td>0.623645</td>\n",
       "    </tr>\n",
       "    <tr>\n",
       "      <th>14</th>\n",
       "      <td>3.637500</td>\n",
       "      <td>160</td>\n",
       "      <td>0.603842</td>\n",
       "    </tr>\n",
       "    <tr>\n",
       "      <th>15</th>\n",
       "      <td>3.611765</td>\n",
       "      <td>170</td>\n",
       "      <td>0.585813</td>\n",
       "    </tr>\n",
       "    <tr>\n",
       "      <th>16</th>\n",
       "      <td>3.427778</td>\n",
       "      <td>180</td>\n",
       "      <td>0.569308</td>\n",
       "    </tr>\n",
       "    <tr>\n",
       "      <th>17</th>\n",
       "      <td>3.305263</td>\n",
       "      <td>190</td>\n",
       "      <td>0.554123</td>\n",
       "    </tr>\n",
       "    <tr>\n",
       "      <th>18</th>\n",
       "      <td>3.575000</td>\n",
       "      <td>200</td>\n",
       "      <td>0.540093</td>\n",
       "    </tr>\n",
       "    <tr>\n",
       "      <th>19</th>\n",
       "      <td>3.509524</td>\n",
       "      <td>210</td>\n",
       "      <td>0.527076</td>\n",
       "    </tr>\n",
       "    <tr>\n",
       "      <th>20</th>\n",
       "      <td>3.463636</td>\n",
       "      <td>220</td>\n",
       "      <td>0.514958</td>\n",
       "    </tr>\n",
       "    <tr>\n",
       "      <th>21</th>\n",
       "      <td>3.413043</td>\n",
       "      <td>230</td>\n",
       "      <td>0.503639</td>\n",
       "    </tr>\n",
       "    <tr>\n",
       "      <th>22</th>\n",
       "      <td>3.741667</td>\n",
       "      <td>240</td>\n",
       "      <td>0.493035</td>\n",
       "    </tr>\n",
       "    <tr>\n",
       "      <th>23</th>\n",
       "      <td>3.436000</td>\n",
       "      <td>250</td>\n",
       "      <td>0.483073</td>\n",
       "    </tr>\n",
       "    <tr>\n",
       "      <th>24</th>\n",
       "      <td>3.480769</td>\n",
       "      <td>260</td>\n",
       "      <td>0.473693</td>\n",
       "    </tr>\n",
       "    <tr>\n",
       "      <th>25</th>\n",
       "      <td>3.551852</td>\n",
       "      <td>270</td>\n",
       "      <td>0.464838</td>\n",
       "    </tr>\n",
       "    <tr>\n",
       "      <th>26</th>\n",
       "      <td>3.428571</td>\n",
       "      <td>280</td>\n",
       "      <td>0.456462</td>\n",
       "    </tr>\n",
       "    <tr>\n",
       "      <th>27</th>\n",
       "      <td>3.506897</td>\n",
       "      <td>290</td>\n",
       "      <td>0.448522</td>\n",
       "    </tr>\n",
       "    <tr>\n",
       "      <th>28</th>\n",
       "      <td>3.286667</td>\n",
       "      <td>300</td>\n",
       "      <td>0.440984</td>\n",
       "    </tr>\n",
       "    <tr>\n",
       "      <th>29</th>\n",
       "      <td>3.500000</td>\n",
       "      <td>310</td>\n",
       "      <td>0.433813</td>\n",
       "    </tr>\n",
       "    <tr>\n",
       "      <th>...</th>\n",
       "      <td>...</td>\n",
       "      <td>...</td>\n",
       "      <td>...</td>\n",
       "    </tr>\n",
       "    <tr>\n",
       "      <th>969</th>\n",
       "      <td>3.504016</td>\n",
       "      <td>9710</td>\n",
       "      <td>0.077513</td>\n",
       "    </tr>\n",
       "    <tr>\n",
       "      <th>970</th>\n",
       "      <td>3.476646</td>\n",
       "      <td>9720</td>\n",
       "      <td>0.077473</td>\n",
       "    </tr>\n",
       "    <tr>\n",
       "      <th>971</th>\n",
       "      <td>3.509250</td>\n",
       "      <td>9730</td>\n",
       "      <td>0.077433</td>\n",
       "    </tr>\n",
       "    <tr>\n",
       "      <th>972</th>\n",
       "      <td>3.522793</td>\n",
       "      <td>9740</td>\n",
       "      <td>0.077393</td>\n",
       "    </tr>\n",
       "    <tr>\n",
       "      <th>973</th>\n",
       "      <td>3.523795</td>\n",
       "      <td>9750</td>\n",
       "      <td>0.077354</td>\n",
       "    </tr>\n",
       "    <tr>\n",
       "      <th>974</th>\n",
       "      <td>3.482889</td>\n",
       "      <td>9760</td>\n",
       "      <td>0.077314</td>\n",
       "    </tr>\n",
       "    <tr>\n",
       "      <th>975</th>\n",
       "      <td>3.503889</td>\n",
       "      <td>9770</td>\n",
       "      <td>0.077274</td>\n",
       "    </tr>\n",
       "    <tr>\n",
       "      <th>976</th>\n",
       "      <td>3.514110</td>\n",
       "      <td>9780</td>\n",
       "      <td>0.077235</td>\n",
       "    </tr>\n",
       "    <tr>\n",
       "      <th>977</th>\n",
       "      <td>3.498979</td>\n",
       "      <td>9790</td>\n",
       "      <td>0.077195</td>\n",
       "    </tr>\n",
       "    <tr>\n",
       "      <th>978</th>\n",
       "      <td>3.511939</td>\n",
       "      <td>9800</td>\n",
       "      <td>0.077156</td>\n",
       "    </tr>\n",
       "    <tr>\n",
       "      <th>979</th>\n",
       "      <td>3.507747</td>\n",
       "      <td>9810</td>\n",
       "      <td>0.077117</td>\n",
       "    </tr>\n",
       "    <tr>\n",
       "      <th>980</th>\n",
       "      <td>3.505397</td>\n",
       "      <td>9820</td>\n",
       "      <td>0.077077</td>\n",
       "    </tr>\n",
       "    <tr>\n",
       "      <th>981</th>\n",
       "      <td>3.499288</td>\n",
       "      <td>9830</td>\n",
       "      <td>0.077038</td>\n",
       "    </tr>\n",
       "    <tr>\n",
       "      <th>982</th>\n",
       "      <td>3.502744</td>\n",
       "      <td>9840</td>\n",
       "      <td>0.076999</td>\n",
       "    </tr>\n",
       "    <tr>\n",
       "      <th>983</th>\n",
       "      <td>3.495228</td>\n",
       "      <td>9850</td>\n",
       "      <td>0.076960</td>\n",
       "    </tr>\n",
       "    <tr>\n",
       "      <th>984</th>\n",
       "      <td>3.515517</td>\n",
       "      <td>9860</td>\n",
       "      <td>0.076921</td>\n",
       "    </tr>\n",
       "    <tr>\n",
       "      <th>985</th>\n",
       "      <td>3.505775</td>\n",
       "      <td>9870</td>\n",
       "      <td>0.076882</td>\n",
       "    </tr>\n",
       "    <tr>\n",
       "      <th>986</th>\n",
       "      <td>3.526822</td>\n",
       "      <td>9880</td>\n",
       "      <td>0.076843</td>\n",
       "    </tr>\n",
       "    <tr>\n",
       "      <th>987</th>\n",
       "      <td>3.512639</td>\n",
       "      <td>9890</td>\n",
       "      <td>0.076804</td>\n",
       "    </tr>\n",
       "    <tr>\n",
       "      <th>988</th>\n",
       "      <td>3.480505</td>\n",
       "      <td>9900</td>\n",
       "      <td>0.076765</td>\n",
       "    </tr>\n",
       "    <tr>\n",
       "      <th>989</th>\n",
       "      <td>3.511201</td>\n",
       "      <td>9910</td>\n",
       "      <td>0.076727</td>\n",
       "    </tr>\n",
       "    <tr>\n",
       "      <th>990</th>\n",
       "      <td>3.478427</td>\n",
       "      <td>9920</td>\n",
       "      <td>0.076688</td>\n",
       "    </tr>\n",
       "    <tr>\n",
       "      <th>991</th>\n",
       "      <td>3.508560</td>\n",
       "      <td>9930</td>\n",
       "      <td>0.076649</td>\n",
       "    </tr>\n",
       "    <tr>\n",
       "      <th>992</th>\n",
       "      <td>3.532294</td>\n",
       "      <td>9940</td>\n",
       "      <td>0.076611</td>\n",
       "    </tr>\n",
       "    <tr>\n",
       "      <th>993</th>\n",
       "      <td>3.496281</td>\n",
       "      <td>9950</td>\n",
       "      <td>0.076572</td>\n",
       "    </tr>\n",
       "    <tr>\n",
       "      <th>994</th>\n",
       "      <td>3.529819</td>\n",
       "      <td>9960</td>\n",
       "      <td>0.076534</td>\n",
       "    </tr>\n",
       "    <tr>\n",
       "      <th>995</th>\n",
       "      <td>3.489268</td>\n",
       "      <td>9970</td>\n",
       "      <td>0.076495</td>\n",
       "    </tr>\n",
       "    <tr>\n",
       "      <th>996</th>\n",
       "      <td>3.494689</td>\n",
       "      <td>9980</td>\n",
       "      <td>0.076457</td>\n",
       "    </tr>\n",
       "    <tr>\n",
       "      <th>997</th>\n",
       "      <td>3.485285</td>\n",
       "      <td>9990</td>\n",
       "      <td>0.076419</td>\n",
       "    </tr>\n",
       "    <tr>\n",
       "      <th>998</th>\n",
       "      <td>3.480200</td>\n",
       "      <td>10000</td>\n",
       "      <td>0.076381</td>\n",
       "    </tr>\n",
       "  </tbody>\n",
       "</table>\n",
       "<p>999 rows × 3 columns</p>\n",
       "</div>"
      ],
      "text/plain": [
       "      muhat_n  n_throws   epsilon\n",
       "0    3.200000        20  1.707923\n",
       "1    4.200000        30  1.394513\n",
       "2    3.650000        40  1.207684\n",
       "3    3.440000        50  1.080185\n",
       "4    3.166667        60  0.986070\n",
       "5    3.628571        70  0.912923\n",
       "6    3.212500        80  0.853961\n",
       "7    3.655556        90  0.805122\n",
       "8    3.550000       100  0.763806\n",
       "9    3.709091       110  0.728261\n",
       "10   3.433333       120  0.697257\n",
       "11   3.453846       130  0.669902\n",
       "12   3.514286       140  0.645534\n",
       "13   3.633333       150  0.623645\n",
       "14   3.637500       160  0.603842\n",
       "15   3.611765       170  0.585813\n",
       "16   3.427778       180  0.569308\n",
       "17   3.305263       190  0.554123\n",
       "18   3.575000       200  0.540093\n",
       "19   3.509524       210  0.527076\n",
       "20   3.463636       220  0.514958\n",
       "21   3.413043       230  0.503639\n",
       "22   3.741667       240  0.493035\n",
       "23   3.436000       250  0.483073\n",
       "24   3.480769       260  0.473693\n",
       "25   3.551852       270  0.464838\n",
       "26   3.428571       280  0.456462\n",
       "27   3.506897       290  0.448522\n",
       "28   3.286667       300  0.440984\n",
       "29   3.500000       310  0.433813\n",
       "..        ...       ...       ...\n",
       "969  3.504016      9710  0.077513\n",
       "970  3.476646      9720  0.077473\n",
       "971  3.509250      9730  0.077433\n",
       "972  3.522793      9740  0.077393\n",
       "973  3.523795      9750  0.077354\n",
       "974  3.482889      9760  0.077314\n",
       "975  3.503889      9770  0.077274\n",
       "976  3.514110      9780  0.077235\n",
       "977  3.498979      9790  0.077195\n",
       "978  3.511939      9800  0.077156\n",
       "979  3.507747      9810  0.077117\n",
       "980  3.505397      9820  0.077077\n",
       "981  3.499288      9830  0.077038\n",
       "982  3.502744      9840  0.076999\n",
       "983  3.495228      9850  0.076960\n",
       "984  3.515517      9860  0.076921\n",
       "985  3.505775      9870  0.076882\n",
       "986  3.526822      9880  0.076843\n",
       "987  3.512639      9890  0.076804\n",
       "988  3.480505      9900  0.076765\n",
       "989  3.511201      9910  0.076727\n",
       "990  3.478427      9920  0.076688\n",
       "991  3.508560      9930  0.076649\n",
       "992  3.532294      9940  0.076611\n",
       "993  3.496281      9950  0.076572\n",
       "994  3.529819      9960  0.076534\n",
       "995  3.489268      9970  0.076495\n",
       "996  3.494689      9980  0.076457\n",
       "997  3.485285      9990  0.076419\n",
       "998  3.480200     10000  0.076381\n",
       "\n",
       "[999 rows x 3 columns]"
      ]
     },
     "execution_count": 22,
     "metadata": {},
     "output_type": "execute_result"
    }
   ],
   "source": [
    "epsilon_n = np.sqrt(2.917/(0.05*n_choices))\n",
    "df['epsilon'] = epsilon_n\n",
    "df"
   ]
  },
  {
   "cell_type": "markdown",
   "metadata": {},
   "source": [
    "Plot the new plot\n",
    "$$ \\Pr(|\\hat\\mu_n - \\mu| < \\epsilon) > 0.95\\\\\n",
    "\\Pr(-\\epsilon_n < \\hat\\mu_n - \\mu < \\epsilon_n)  > 0.95 $$"
   ]
  },
  {
   "cell_type": "code",
   "execution_count": null,
   "metadata": {},
   "outputs": [],
   "source": [
    "figsize(11, 9)\n",
    "plt.plot((df['n_throws']),  df['muhat_n']-3.5);    ## subtract true mean 3.5\n",
    "plt.plot((df['n_throws']),  df['epsilon'], '--r');\n",
    "plt.plot((df['n_throws']), -df['epsilon'], '--r');\n",
    "plt.xlabel(\"Number of dice throws (n)\");\n",
    "plt.ylabel(\"Average of n dice throws\");"
   ]
  },
  {
   "cell_type": "code",
   "execution_count": null,
   "metadata": {},
   "outputs": [],
   "source": [
    "## repeat computing mean of n throws s times\n",
    "def repeat_muhat_n(n=1, s=100):\n",
    "    \n",
    "    out = [muhat_n(n) for one in range(s)]\n",
    "    \n",
    "    return({ 'min': min(out), 'max': max(out), 'mean': sum(out)/s})"
   ]
  },
  {
   "cell_type": "code",
   "execution_count": null,
   "metadata": {},
   "outputs": [],
   "source": [
    "repeat_muhat_n(10)"
   ]
  },
  {
   "cell_type": "code",
   "execution_count": null,
   "metadata": {},
   "outputs": [],
   "source": [
    "results = []\n",
    "for n in n_choices:\n",
    "    results += [repeat_muhat_n(n)] ## appends to list\n",
    "\n",
    "df_new = pd.DataFrame(results)\n",
    "df_new['n_throws'] = n_choices\n",
    "df_new['epsilon'] = epsilon_n\n",
    "df_new[:10]"
   ]
  },
  {
   "cell_type": "code",
   "execution_count": null,
   "metadata": {},
   "outputs": [],
   "source": [
    "figsize(11, 9)\n",
    "plt.plot((df_new['n_throws']),  df_new['mean']-3.5, '-g');    ## subtract true mean 3.5\n",
    "plt.plot((df_new['n_throws']),  df_new['min'] -3.5, ':g');    ## subtract true mean 3.5\n",
    "plt.plot((df_new['n_throws']),  df_new['max'] -3.5, ':g');    ## subtract true mean 3.5\n",
    "plt.plot((df_new['n_throws']),  df_new['epsilon'], '--r');\n",
    "plt.plot((df_new['n_throws']), -df_new['epsilon'], '--r');\n",
    "plt.xlabel(\"Number of dice throws (n)\");\n",
    "plt.ylabel(\"Average of n dice throws\");"
   ]
  },
  {
   "cell_type": "markdown",
   "metadata": {},
   "source": [
    "## Repeat for 90% bound\n",
    "\n",
    "Plot $\\epsilon$ bounds corresponding to 80% and 90% probability. Interpret these bounds."
   ]
  },
  {
   "cell_type": "code",
   "execution_count": null,
   "metadata": {},
   "outputs": [],
   "source": [
    "epsilon_n = np.sqrt(2.917/(0.1*n_choices))\n",
    "df_new['epsilon_10'] = epsilon_n\n",
    "\n",
    "epsilon_n = np.sqrt(2.917/(0.2*n_choices))\n",
    "df_new['epsilon_20'] = epsilon_n\n",
    "\n",
    "figsize(11, 9)\n",
    "plt.plot((df_new['n_throws']),  df_new['mean']-3.5, '-g')    ## subtract true mean 3.5\n",
    "plt.plot((df_new['n_throws']),  df_new['min'] -3.5, ':g')    ## subtract true mean 3.5\n",
    "plt.plot((df_new['n_throws']),  df_new['max'] -3.5, ':g')    ## subtract true mean 3.5\n",
    "plt.plot((df_new['n_throws']),  df_new['epsilon'], '--r')\n",
    "plt.plot((df_new['n_throws']), -df_new['epsilon'], '--r')\n",
    "plt.plot((df_new['n_throws']),  df_new['epsilon_10'], '--b')\n",
    "plt.plot((df_new['n_throws']), -df_new['epsilon_10'], '--b')\n",
    "plt.plot((df_new['n_throws']),  df_new['epsilon_20'], '--k')\n",
    "plt.plot((df_new['n_throws']), -df_new['epsilon_20'], '--k')\n",
    "plt.xlim(0, 3000)\n",
    "plt.xlabel(\"Number of dice throws (n)\")\n",
    "plt.ylabel(\"Average of n dice throws\")\n",
    "plt.show()"
   ]
  },
  {
   "cell_type": "markdown",
   "metadata": {},
   "source": [
    "## Sampling from distribution vs data\n",
    "\n",
    "In simulation, we \"sample\" from the distribution: i.e., observe more measurements from the true underlying process. In the dice example, sampling from the distribution (true underlying process) is equivalent to the ability to execute the function `throw_dice()`. However, in real-world scenarios, we may not have that luxury: e.g., only be able to record some real dice 1000 times.\n",
    "\n",
    "In this section, we simulate such situation. There is some loaded dice with pmf as follows:\n",
    "\n",
    "|Outcome: $x$|1     |2     |3     |4     |5     |6     |\n",
    "|---------   |---   |---   |---   |---   |---   |---   |\n",
    "|$\\Pr(X=x)$  |1/12  |2/12  |2/12  |2/12  |2/12  |3/12  |\n",
    "\n",
    "Function for throwing such dice can be written as follows:"
   ]
  },
  {
   "cell_type": "code",
   "execution_count": null,
   "metadata": {},
   "outputs": [],
   "source": [
    "def throw_loaded_dice(n=1):\n",
    "    from numpy.random import choice\n",
    "    \n",
    "    d = [1, 2,2, 3,3, 4,4, 5,5, 6,6,6]\n",
    "    return(choice(d, n, replace=True))"
   ]
  },
  {
   "cell_type": "markdown",
   "metadata": {},
   "source": [
    "What `d` represents is if one were to throw dice 12 times, one would get 1 exactly once, 2 exactly twice, 3 exactly twice, $\\dots$, 6 exactly three times. In terms of proportion (out of 12 times), you get exactly $\\Pr(X=x)$.\n",
    "\n",
    "Now we 'throw' the dice 10,000 times:"
   ]
  },
  {
   "cell_type": "code",
   "execution_count": null,
   "metadata": {},
   "outputs": [],
   "source": [
    "data = throw_loaded_dice(100000)"
   ]
  },
  {
   "cell_type": "markdown",
   "metadata": {},
   "source": [
    "In real-world situations, we may not have access to the real dice; however, we are given record of 100000 dice throws.\n",
    "\n",
    "In this case, we can _resample with replacement_ from the data. The data is our _empirical dice_ since we have 10,000 throws, each adding to count of one of the numbers 1 through 6.\n",
    "\n",
    "We can use the following function to sample from our _data_ instead:"
   ]
  },
  {
   "cell_type": "code",
   "execution_count": null,
   "metadata": {},
   "outputs": [],
   "source": [
    "def choose_from_data(n=1, data_in=None):\n",
    "    from numpy.random import choice\n",
    "    \n",
    "    return(choice(data_in, n, replace=True))"
   ]
  },
  {
   "cell_type": "markdown",
   "metadata": {},
   "source": [
    "Let's sample from `data` 1000 times:"
   ]
  },
  {
   "cell_type": "code",
   "execution_count": null,
   "metadata": {},
   "outputs": [],
   "source": [
    "pseudo_data = choose_from_data(1000, data)"
   ]
  },
  {
   "cell_type": "markdown",
   "metadata": {},
   "source": [
    "We can compare the distribution of the _true_ pmf, _empirical_ pmf, and _resampled_ pmf"
   ]
  },
  {
   "cell_type": "code",
   "execution_count": null,
   "metadata": {},
   "outputs": [],
   "source": [
    "outcome, data_counts = np.unique(data, return_counts=True)\n",
    "outcome, resample_counts = np.unique(pseudo_data, return_counts=True)\n",
    "\n",
    "pmfs = pd.DataFrame({\n",
    "    'outcome': np.arange(1, 7),\n",
    "    'true_pmf': np.array([1, 2, 2, 2, 2, 3])/12,\n",
    "    'empirical_pmf': data_counts/sum(data_counts),\n",
    "    'resample_pmf': resample_counts/sum(resample_counts),\n",
    "}, columns=['outcome','true_pmf','empirical_pmf','resample_pmf'])\n",
    "\n",
    "pmfs"
   ]
  },
  {
   "cell_type": "markdown",
   "metadata": {},
   "source": [
    "Above experiment shows that empirical pmf and resample pmf are similar to the truth. This is the basis for using resampled data (such as bootstrap) for estimating sampling distributions, etc. "
   ]
  }
 ],
 "metadata": {
  "kernelspec": {
   "display_name": "Python 3",
   "language": "python",
   "name": "python3"
  },
  "language_info": {
   "codemirror_mode": {
    "name": "ipython",
    "version": 3
   },
   "file_extension": ".py",
   "mimetype": "text/x-python",
   "name": "python",
   "nbconvert_exporter": "python",
   "pygments_lexer": "ipython3",
   "version": "3.6.3"
  }
 },
 "nbformat": 4,
 "nbformat_minor": 2
}
